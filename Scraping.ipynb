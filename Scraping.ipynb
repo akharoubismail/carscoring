{
 "cells": [
  {
   "cell_type": "markdown",
   "metadata": {},
   "source": [
    "# Scraping les deux sites http://www.douane.gov.ma/mcv/calculDroitTaxe.jsf et http://www.wandaloo.com/neuf/guide.achat/\n"
   ]
  },
  {
   "cell_type": "markdown",
   "metadata": {},
   "source": [
    "## 1.Scraping des donnees du premiere site http://www.wandaloo.com/neuf/guide.achat"
   ]
  },
  {
   "cell_type": "markdown",
   "metadata": {},
   "source": [
    "### 1.1 scraping "
   ]
  },
  {
   "cell_type": "code",
   "execution_count": 2,
   "metadata": {
    "collapsed": true
   },
   "outputs": [],
   "source": [
    "#Loading Libraries\n",
    "import urllib\n",
    "import urllib.request\n",
    "import sys,os,os.path\n",
    "from bs4 import BeautifulSoup\n",
    "#os.environ['HTTP_PROXY']=\"http://10.23.201.11:3128\"\n",
    "#os.environ['HTTPS_PROXY']=\"https://10.23.201.11:3128\"\n",
    "\n"
   ]
  },
  {
   "cell_type": "code",
   "execution_count": 11,
   "metadata": {
    "collapsed": true
   },
   "outputs": [],
   "source": [
    "user_agent = 'Mozilla/5.0 (Windows; U; Windows NT 5.1; en-US; rv:1.9.0.7) Gecko/2009021910 Firefox/3.0.7'\n",
    "\n",
    "url = \"http://www.wandaloo.com/neuf/guide.achat/?pg=1&marque=0&modele=0&moteur=0&budget=0&annee=0&order=marqueAZ\"\n",
    "headers={'User-Agent':user_agent,} \n",
    "try:\n",
    "    request=urllib.request.Request(url,None,headers) #The assembled request    \n",
    "    response = urllib.request.urlopen(request)\n",
    "except HTTPError as e:\n",
    "    print(e)\n",
    "data= response.read() # The data u need\n",
    "soup = BeautifulSoup(data,\"html.parser\")"
   ]
  },
  {
   "cell_type": "code",
   "execution_count": 12,
   "metadata": {
    "collapsed": true
   },
   "outputs": [],
   "source": [
    "titre=[]\n",
    "for i in soup.findAll(\"th\"):\n",
    "    i=i.get_text()\n",
    "    titre.append(i)\n",
    "Titre=(titre[1],titre[2],titre[3],titre[4],titre[5],titre[6],titre[7])\n",
    "\n"
   ]
  },
  {
   "cell_type": "code",
   "execution_count": null,
   "metadata": {},
   "outputs": [],
   "source": [
    "Contenue=[Titre]\n",
    "for j in range (1,68):\n",
    "    url = \"http://www.wandaloo.com/neuf/guide.achat/?pg=\"+str(j)+\"&marque=0&modele=0&moteur=0&budget=0&annee=0&order=marqueAZ\"\n",
    "\n",
    "    try:\n",
    "        request=urllib.request.Request(url,None,headers) #The assembled request    \n",
    "        response = urllib.request.urlopen(request)\n",
    "    except HTTPError as e:\n",
    "        print(e)\n",
    "    data= response.read() # The data u need\n",
    "    soup = BeautifulSoup(data,\"html.parser\")\n",
    "    L=soup.findAll(\"tr\")\n",
    "    L=L[1:]\n",
    "    \n",
    "    for i in range (0,len(L)):\n",
    "        l=(L[i].get_text()).replace(',','.')\n",
    "        l=(l.strip()).split(\"\\n\")\n",
    "        Contenue+=[(str(l[0])+\" \"+str(l[2]),l[3],l[5],l[6],l[7],l[8],l[9])]\n",
    "\n",
    "    \n"
   ]
  },
  {
   "cell_type": "markdown",
   "metadata": {},
   "source": [
    "### 1.2 stockage .csv\n"
   ]
  },
  {
   "cell_type": "code",
   "execution_count": 4,
   "metadata": {
    "collapsed": true
   },
   "outputs": [],
   "source": [
    "import csv\n",
    "import os\n",
    "os.chdir(\"C://Users/ismail/Desktop\")\n",
    "import pandas as pd"
   ]
  },
  {
   "cell_type": "code",
   "execution_count": 219,
   "metadata": {
    "collapsed": true
   },
   "outputs": [],
   "source": [
    "f=open(\"fichier.csv\",\"w\")\n",
    "c=csv.writer(f)\n",
    "for l in Contenue:\n",
    "    c.writerow(list(l))\n",
    "f.close()"
   ]
  },
  {
   "cell_type": "code",
   "execution_count": 9,
   "metadata": {},
   "outputs": [
    {
     "data": {
      "text/html": [
       "<div>\n",
       "<style>\n",
       "    .dataframe thead tr:only-child th {\n",
       "        text-align: right;\n",
       "    }\n",
       "\n",
       "    .dataframe thead th {\n",
       "        text-align: left;\n",
       "    }\n",
       "\n",
       "    .dataframe tbody tr th {\n",
       "        vertical-align: top;\n",
       "    }\n",
       "</style>\n",
       "<table border=\"1\" class=\"dataframe\">\n",
       "  <thead>\n",
       "    <tr style=\"text-align: right;\">\n",
       "      <th></th>\n",
       "      <th>Marque et modèle</th>\n",
       "      <th>Prix</th>\n",
       "      <th>Moteur</th>\n",
       "      <th>P.F.</th>\n",
       "      <th>P.D.</th>\n",
       "      <th>Année</th>\n",
       "      <th>mise à jour</th>\n",
       "    </tr>\n",
       "  </thead>\n",
       "  <tbody>\n",
       "    <tr>\n",
       "      <th>0</th>\n",
       "      <td>Alfa Romeo Giulia 2.2 JTD Giulia BVA</td>\n",
       "      <td>384.900</td>\n",
       "      <td>Diesel</td>\n",
       "      <td>8 cv</td>\n",
       "      <td>150 ch</td>\n",
       "      <td>2016</td>\n",
       "      <td>15.05.2016</td>\n",
       "    </tr>\n",
       "    <tr>\n",
       "      <th>1</th>\n",
       "      <td>Alfa Romeo Giulia 2.2 JTD Super</td>\n",
       "      <td>419.900</td>\n",
       "      <td>Diesel</td>\n",
       "      <td>8 cv</td>\n",
       "      <td>180 ch</td>\n",
       "      <td>2016</td>\n",
       "      <td>15.05.2016</td>\n",
       "    </tr>\n",
       "    <tr>\n",
       "      <th>2</th>\n",
       "      <td>Alfa Romeo Giulia 2.2 JTD Super BVA</td>\n",
       "      <td>444.900</td>\n",
       "      <td>Diesel</td>\n",
       "      <td>8 cv</td>\n",
       "      <td>180 ch</td>\n",
       "      <td>2016</td>\n",
       "      <td>15.05.2016</td>\n",
       "    </tr>\n",
       "    <tr>\n",
       "      <th>3</th>\n",
       "      <td>Alfa Romeo Giulia 2.9 V6 Quadrifoglio Verde</td>\n",
       "      <td>809.900</td>\n",
       "      <td>Essence</td>\n",
       "      <td>17 cv</td>\n",
       "      <td>510 ch</td>\n",
       "      <td>2016</td>\n",
       "      <td>15.05.2016</td>\n",
       "    </tr>\n",
       "    <tr>\n",
       "      <th>4</th>\n",
       "      <td>Alfa Romeo MiTo 1.3 JTDM Progression</td>\n",
       "      <td>222.500</td>\n",
       "      <td>Diesel</td>\n",
       "      <td>6 cv</td>\n",
       "      <td>85 ch</td>\n",
       "      <td>2016</td>\n",
       "      <td>07.12.2016</td>\n",
       "    </tr>\n",
       "  </tbody>\n",
       "</table>\n",
       "</div>"
      ],
      "text/plain": [
       "                              Marque et modèle     Prix    Moteur   P.F.  \\\n",
       "0         Alfa Romeo Giulia 2.2 JTD Giulia BVA  384.900   Diesel    8 cv   \n",
       "1              Alfa Romeo Giulia 2.2 JTD Super  419.900   Diesel    8 cv   \n",
       "2          Alfa Romeo Giulia 2.2 JTD Super BVA  444.900   Diesel    8 cv   \n",
       "3  Alfa Romeo Giulia 2.9 V6 Quadrifoglio Verde  809.900  Essence   17 cv   \n",
       "4         Alfa Romeo MiTo 1.3 JTDM Progression  222.500   Diesel    6 cv   \n",
       "\n",
       "     P.D.  Année mise à jour  \n",
       "0  150 ch   2016  15.05.2016  \n",
       "1  180 ch   2016  15.05.2016  \n",
       "2  180 ch   2016  15.05.2016  \n",
       "3  510 ch   2016  15.05.2016  \n",
       "4   85 ch   2016  07.12.2016  "
      ]
     },
     "execution_count": 9,
     "metadata": {},
     "output_type": "execute_result"
    }
   ],
   "source": [
    "nouveau=pd.read_csv(\"fichier.csv\",encoding='latin-1')\n",
    "nouveau.head()"
   ]
  },
  {
   "cell_type": "code",
   "execution_count": 10,
   "metadata": {},
   "outputs": [
    {
     "data": {
      "text/html": [
       "<div>\n",
       "<style>\n",
       "    .dataframe thead tr:only-child th {\n",
       "        text-align: right;\n",
       "    }\n",
       "\n",
       "    .dataframe thead th {\n",
       "        text-align: left;\n",
       "    }\n",
       "\n",
       "    .dataframe tbody tr th {\n",
       "        vertical-align: top;\n",
       "    }\n",
       "</style>\n",
       "<table border=\"1\" class=\"dataframe\">\n",
       "  <thead>\n",
       "    <tr style=\"text-align: right;\">\n",
       "      <th></th>\n",
       "      <th>Marque et modèle</th>\n",
       "      <th>Prix</th>\n",
       "      <th>Moteur</th>\n",
       "      <th>P.F.</th>\n",
       "      <th>P.D.</th>\n",
       "      <th>Année</th>\n",
       "      <th>mise à jour</th>\n",
       "    </tr>\n",
       "  </thead>\n",
       "  <tbody>\n",
       "    <tr>\n",
       "      <th>1334</th>\n",
       "      <td>Volvo XC60 2.4 D4 AWD R-Design</td>\n",
       "      <td>540.000</td>\n",
       "      <td>Diesel</td>\n",
       "      <td>10 cv</td>\n",
       "      <td>190 ch</td>\n",
       "      <td>2016</td>\n",
       "      <td>21.11.2016</td>\n",
       "    </tr>\n",
       "    <tr>\n",
       "      <th>1335</th>\n",
       "      <td>Volvo XC90 D5 AWD Momentum</td>\n",
       "      <td>659.000</td>\n",
       "      <td>Diesel</td>\n",
       "      <td>10 cv</td>\n",
       "      <td>235 ch</td>\n",
       "      <td>2016</td>\n",
       "      <td>21.11.2016</td>\n",
       "    </tr>\n",
       "    <tr>\n",
       "      <th>1336</th>\n",
       "      <td>Volvo XC90 D5 AWD Momentum Techno Pack</td>\n",
       "      <td>679.000</td>\n",
       "      <td>Diesel</td>\n",
       "      <td>10 cv</td>\n",
       "      <td>235 ch</td>\n",
       "      <td>2016</td>\n",
       "      <td>13.04.2016</td>\n",
       "    </tr>\n",
       "    <tr>\n",
       "      <th>1337</th>\n",
       "      <td>Volvo XC90 D5 AWD R-Design</td>\n",
       "      <td>769.000</td>\n",
       "      <td>Diesel</td>\n",
       "      <td>10 cv</td>\n",
       "      <td>235 ch</td>\n",
       "      <td>2016</td>\n",
       "      <td>21.11.2016</td>\n",
       "    </tr>\n",
       "    <tr>\n",
       "      <th>1338</th>\n",
       "      <td>Volvo XC90 D5 AWD Inscription</td>\n",
       "      <td>899.000</td>\n",
       "      <td>Diesel</td>\n",
       "      <td>10 cv</td>\n",
       "      <td>235 ch</td>\n",
       "      <td>2016</td>\n",
       "      <td>21.11.2016</td>\n",
       "    </tr>\n",
       "  </tbody>\n",
       "</table>\n",
       "</div>"
      ],
      "text/plain": [
       "                            Marque et modèle     Prix   Moteur   P.F.    P.D.  \\\n",
       "1334          Volvo XC60 2.4 D4 AWD R-Design  540.000  Diesel   10 cv  190 ch   \n",
       "1335              Volvo XC90 D5 AWD Momentum  659.000  Diesel   10 cv  235 ch   \n",
       "1336  Volvo XC90 D5 AWD Momentum Techno Pack  679.000  Diesel   10 cv  235 ch   \n",
       "1337              Volvo XC90 D5 AWD R-Design  769.000  Diesel   10 cv  235 ch   \n",
       "1338           Volvo XC90 D5 AWD Inscription  899.000  Diesel   10 cv  235 ch   \n",
       "\n",
       "      Année mise à jour  \n",
       "1334   2016  21.11.2016  \n",
       "1335   2016  21.11.2016  \n",
       "1336   2016  13.04.2016  \n",
       "1337   2016  21.11.2016  \n",
       "1338   2016  21.11.2016  "
      ]
     },
     "execution_count": 10,
     "metadata": {},
     "output_type": "execute_result"
    }
   ],
   "source": [
    "nouveau.tail()"
   ]
  },
  {
   "cell_type": "code",
   "execution_count": null,
   "metadata": {
    "collapsed": true
   },
   "outputs": [],
   "source": []
  }
 ],
 "metadata": {
  "kernelspec": {
   "display_name": "Python 3",
   "language": "python",
   "name": "python3"
  },
  "language_info": {
   "codemirror_mode": {
    "name": "ipython",
    "version": 3
   },
   "file_extension": ".py",
   "mimetype": "text/x-python",
   "name": "python",
   "nbconvert_exporter": "python",
   "pygments_lexer": "ipython3",
   "version": "3.6.1"
  }
 },
 "nbformat": 4,
 "nbformat_minor": 2
}
